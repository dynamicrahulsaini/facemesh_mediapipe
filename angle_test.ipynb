{
 "cells": [
  {
   "cell_type": "code",
   "execution_count": 1,
   "metadata": {},
   "outputs": [],
   "source": [
    "import cv2\n",
    "import numpy as np\n",
    "import mediapipe as mp"
   ]
  },
  {
   "cell_type": "code",
   "execution_count": 2,
   "metadata": {},
   "outputs": [],
   "source": [
    "mp_face_mesh = mp.solutions.face_mesh\n",
    "\n",
    "face_mesh = mp_face_mesh.FaceMesh(\n",
    "    max_num_faces=1,\n",
    "    static_image_mode=True,\n",
    "    refine_landmarks=True,\n",
    "    min_detection_confidence=0.8,\n",
    "    min_tracking_confidence=0.8\n",
    ")"
   ]
  },
  {
   "cell_type": "code",
   "execution_count": 3,
   "metadata": {},
   "outputs": [],
   "source": [
    "def get_landmarks(image):\n",
    "    landmarks = {}\n",
    "    h,w = image.shape[:2]\n",
    "    image = cv2.cvtColor(image, cv2.COLOR_BGR2RGB)\n",
    "    face_mesh_result = face_mesh.process(image)\n",
    "    image = cv2.cvtColor(image, cv2.COLOR_RGB2BGR)\n",
    "    \n",
    "    if face_mesh_result.multi_face_landmarks:\n",
    "        for i, landmark in enumerate(face_mesh_result.multi_face_landmarks[0].landmark): \n",
    "            x = landmark.x\n",
    "            y = landmark.y\n",
    "            relative_x = int(x * w)\n",
    "            relative_y = int(y * h)\n",
    "            landmarks[i+1] = (relative_x, relative_y)\n",
    "    return landmarks"
   ]
  },
  {
   "cell_type": "code",
   "execution_count": 4,
   "metadata": {},
   "outputs": [],
   "source": [
    "def get_coordinates(landmarks):\n",
    "    coordinates = {\n",
    "        \"eye_left\": [landmarks[30], [landmarks[158][0], landmarks[145][1]]],\n",
    "        \"eye_right\": [landmarks[287], [landmarks[260][0], landmarks[381][1]]],\n",
    "        # \"shade\": [landmarks[71], (landmarks[301][0], landmarks[301][1] + (landmarks[119][1] - landmarks[301][1]))]\n",
    "        \"shade\": [(landmarks[140][0], landmarks[72][1]), landmarks[117], landmarks[346], landmarks[390]]\n",
    "    }\n",
    "    return coordinates"
   ]
  },
  {
   "cell_type": "code",
   "execution_count": 5,
   "metadata": {},
   "outputs": [],
   "source": [
    "def draw_coordinates(image, points, color = [150, 0, 200]):\n",
    "    neighbor_vector = [(0,0), (1,0), (0,1), (-1,0), (0, -1), (-1, -1), (-1, 1), (1, -1), (1, 1)]\n",
    "    for pt in points:\n",
    "        image[pt[1]][pt[0]] = color\n",
    "    return image"
   ]
  },
  {
   "cell_type": "code",
   "execution_count": 20,
   "metadata": {},
   "outputs": [],
   "source": [
    "import math\n",
    "def get_angle(coordinates):\n",
    "    height = (coordinates[1][1] - coordinates[2][1])\n",
    "    base = (coordinates[1][0] - coordinates[2][0])\n",
    "    \n",
    "    angle = math.atan(height/base) * 180/math.pi\n",
    "    return angle\n",
    "    "
   ]
  },
  {
   "cell_type": "code",
   "execution_count": 25,
   "metadata": {},
   "outputs": [],
   "source": [
    "def rotate_image(im, angle):\n",
    "    imHeight, imWidth = im.shape[0], im.shape[1]\n",
    "    centreX, centreY = imWidth//2, imHeight//2\n",
    "        \n",
    "    rotationMat = cv2.getRotationMatrix2D(\n",
    "    center=(centreX, centreY),\n",
    "    angle=20,\n",
    "    scale=1\n",
    "    )\n",
    "    \n",
    "    cos = np.abs(rotationMat[0][0])\n",
    "    sin = np.abs(rotationMat[1][0])\n",
    "    \n",
    "    newWidth = int((imHeight * sin) + (imWidth * cos))\n",
    "    newHeight = int((imHeight * cos) + (imWidth * sin))\n",
    "    \n",
    "    rotationMat[0][2] = 0\n",
    "    rotationMat[1][2] += newHeight/2 - centreY\n",
    "    \n",
    "    dst_mat = np.zeros((newHeight, newWidth, 4), np.uint8)\n",
    "    rotatedMat = cv2.warpAffine(\n",
    "        im,\n",
    "        rotationMat,\n",
    "        (newWidth, newHeight),\n",
    "        dst_mat\n",
    "    )\n",
    "    \n",
    "    return dst_mat, (newHeight, newWidth)"
   ]
  },
  {
   "cell_type": "code",
   "execution_count": 24,
   "metadata": {},
   "outputs": [],
   "source": [
    "cam = cv2.VideoCapture(0)\n",
    "\n",
    "while True:\n",
    "    ret, frame = cam.read()\n",
    "    frame = frame[:,::-1]\n",
    "    \n",
    "    if ret:\n",
    "        landmarks = get_landmarks(frame)\n",
    "        coordinates = get_coordinates(landmarks)\n",
    "        image = draw_coordinates(frame, coordinates['shade'])\n",
    "        \n",
    "        image = np.ascontiguousarray(image, dtype=np.uint8)\n",
    "        angle = get_angle(coordinates['shade'])\n",
    "        \n",
    "        cv2.putText(image, str(angle), (50, 50), cv2.FONT_HERSHEY_COMPLEX_SMALL, 1, [255, 255, 255], 1)\n",
    "        \n",
    "        cv2.imshow(\"im\", image)\n",
    "        if cv2.waitKey(5) & 0xFF == 27:\n",
    "            cv2.destroyAllWindows()\n",
    "            cam.release()\n",
    "            break"
   ]
  }
 ],
 "metadata": {
  "kernelspec": {
   "display_name": "Python 3.9.12 ('base')",
   "language": "python",
   "name": "python3"
  },
  "language_info": {
   "codemirror_mode": {
    "name": "ipython",
    "version": 3
   },
   "file_extension": ".py",
   "mimetype": "text/x-python",
   "name": "python",
   "nbconvert_exporter": "python",
   "pygments_lexer": "ipython3",
   "version": "3.9.12"
  },
  "orig_nbformat": 4,
  "vscode": {
   "interpreter": {
    "hash": "50358623c6e9d2153a0a4321335eadc302511ae5d787306b1c0ba4a549579c28"
   }
  }
 },
 "nbformat": 4,
 "nbformat_minor": 2
}
