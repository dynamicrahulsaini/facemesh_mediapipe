{
 "cells": [
  {
   "cell_type": "code",
   "execution_count": 8,
   "metadata": {},
   "outputs": [],
   "source": [
    "import cv2\n",
    "import numpy as np\n",
    "import mediapipe as mp"
   ]
  },
  {
   "cell_type": "code",
   "execution_count": 9,
   "metadata": {},
   "outputs": [],
   "source": [
    "mp_face_mesh = mp.solutions.face_mesh\n",
    "\n",
    "face_mesh = mp_face_mesh.FaceMesh(\n",
    "    max_num_faces=1,\n",
    "    static_image_mode=True,\n",
    "    refine_landmarks=True,\n",
    "    min_detection_confidence=0.8,\n",
    "    min_tracking_confidence=0.8\n",
    ")"
   ]
  },
  {
   "cell_type": "code",
   "execution_count": 10,
   "metadata": {},
   "outputs": [],
   "source": [
    "def get_landmarks(image):\n",
    "    landmarks = {}\n",
    "    h,w = image.shape[:2]\n",
    "    image = cv2.cvtColor(image, cv2.COLOR_BGR2RGB)\n",
    "    face_mesh_result = face_mesh.process(image)\n",
    "    image = cv2.cvtColor(image, cv2.COLOR_RGB2BGR)\n",
    "    \n",
    "    if face_mesh_result.multi_face_landmarks:\n",
    "        for i, landmark in enumerate(face_mesh_result.multi_face_landmarks[0].landmark): \n",
    "            x = landmark.x\n",
    "            y = landmark.y\n",
    "            relative_x = int(x * w)\n",
    "            relative_y = int(y * h)\n",
    "            landmarks[i+1] = (relative_x, relative_y)\n",
    "    return landmarks"
   ]
  },
  {
   "cell_type": "code",
   "execution_count": 11,
   "metadata": {},
   "outputs": [],
   "source": [
    "def get_coordinates(landmarks):\n",
    "    coordinates = {\n",
    "        \"eye_left\": [landmarks[30], [landmarks[158][0], landmarks[145][1]]],\n",
    "        \"eye_right\": [landmarks[287], [landmarks[260][0], landmarks[381][1]]],\n",
    "        # \"shade\": [landmarks[71], (landmarks[301][0], landmarks[301][1] + (landmarks[119][1] - landmarks[301][1]))]\n",
    "        \"shade\": [(landmarks[140][0], landmarks[72][1]), landmarks[117], landmarks[346], landmarks[390]]\n",
    "    }\n",
    "    return coordinates"
   ]
  },
  {
   "cell_type": "code",
   "execution_count": 12,
   "metadata": {},
   "outputs": [],
   "source": [
    "def draw_coordinates(image, points, color = [150, 0, 200]):\n",
    "    neighbor_vector = [(0,0), (1,0), (0,1), (-1,0), (0, -1), (-1, -1), (-1, 1), (1, -1), (1, 1)]\n",
    "    for pt in points:\n",
    "        image[pt[1]][pt[0]] = color\n",
    "    return image"
   ]
  },
  {
   "cell_type": "code",
   "execution_count": null,
   "metadata": {},
   "outputs": [],
   "source": [
    "def get_angle(coordinates):\n",
    "    height = coordinates"
   ]
  },
  {
   "cell_type": "code",
   "execution_count": 16,
   "metadata": {},
   "outputs": [
    {
     "ename": "KeyError",
     "evalue": "30",
     "output_type": "error",
     "traceback": [
      "\u001b[1;31m---------------------------------------------------------------------------\u001b[0m",
      "\u001b[1;31mKeyError\u001b[0m                                  Traceback (most recent call last)",
      "\u001b[1;32md:\\facemesh_mediapipe\\angle_test.ipynb Cell 6\u001b[0m in \u001b[0;36m<cell line: 4>\u001b[1;34m()\u001b[0m\n\u001b[0;32m      <a href='vscode-notebook-cell:/d%3A/facemesh_mediapipe/angle_test.ipynb#W2sZmlsZQ%3D%3D?line=6'>7</a>\u001b[0m \u001b[39mif\u001b[39;00m ret:\n\u001b[0;32m      <a href='vscode-notebook-cell:/d%3A/facemesh_mediapipe/angle_test.ipynb#W2sZmlsZQ%3D%3D?line=7'>8</a>\u001b[0m     landmarks \u001b[39m=\u001b[39m get_landmarks(frame)\n\u001b[1;32m----> <a href='vscode-notebook-cell:/d%3A/facemesh_mediapipe/angle_test.ipynb#W2sZmlsZQ%3D%3D?line=8'>9</a>\u001b[0m     coordinates \u001b[39m=\u001b[39m get_coordinates(landmarks)\n\u001b[0;32m     <a href='vscode-notebook-cell:/d%3A/facemesh_mediapipe/angle_test.ipynb#W2sZmlsZQ%3D%3D?line=9'>10</a>\u001b[0m     image \u001b[39m=\u001b[39m draw_coordinates(frame, coordinates[\u001b[39m'\u001b[39m\u001b[39mshade\u001b[39m\u001b[39m'\u001b[39m])\n\u001b[0;32m     <a href='vscode-notebook-cell:/d%3A/facemesh_mediapipe/angle_test.ipynb#W2sZmlsZQ%3D%3D?line=11'>12</a>\u001b[0m     cv2\u001b[39m.\u001b[39mimshow(\u001b[39m\"\u001b[39m\u001b[39mim\u001b[39m\u001b[39m\"\u001b[39m, image)\n",
      "\u001b[1;32md:\\facemesh_mediapipe\\angle_test.ipynb Cell 6\u001b[0m in \u001b[0;36mget_coordinates\u001b[1;34m(landmarks)\u001b[0m\n\u001b[0;32m      <a href='vscode-notebook-cell:/d%3A/facemesh_mediapipe/angle_test.ipynb#W2sZmlsZQ%3D%3D?line=0'>1</a>\u001b[0m \u001b[39mdef\u001b[39;00m \u001b[39mget_coordinates\u001b[39m(landmarks):\n\u001b[0;32m      <a href='vscode-notebook-cell:/d%3A/facemesh_mediapipe/angle_test.ipynb#W2sZmlsZQ%3D%3D?line=1'>2</a>\u001b[0m     coordinates \u001b[39m=\u001b[39m {\n\u001b[1;32m----> <a href='vscode-notebook-cell:/d%3A/facemesh_mediapipe/angle_test.ipynb#W2sZmlsZQ%3D%3D?line=2'>3</a>\u001b[0m         \u001b[39m\"\u001b[39m\u001b[39meye_left\u001b[39m\u001b[39m\"\u001b[39m: [landmarks[\u001b[39m30\u001b[39;49m], [landmarks[\u001b[39m158\u001b[39m][\u001b[39m0\u001b[39m], landmarks[\u001b[39m145\u001b[39m][\u001b[39m1\u001b[39m]]],\n\u001b[0;32m      <a href='vscode-notebook-cell:/d%3A/facemesh_mediapipe/angle_test.ipynb#W2sZmlsZQ%3D%3D?line=3'>4</a>\u001b[0m         \u001b[39m\"\u001b[39m\u001b[39meye_right\u001b[39m\u001b[39m\"\u001b[39m: [landmarks[\u001b[39m287\u001b[39m], [landmarks[\u001b[39m260\u001b[39m][\u001b[39m0\u001b[39m], landmarks[\u001b[39m381\u001b[39m][\u001b[39m1\u001b[39m]]],\n\u001b[0;32m      <a href='vscode-notebook-cell:/d%3A/facemesh_mediapipe/angle_test.ipynb#W2sZmlsZQ%3D%3D?line=4'>5</a>\u001b[0m         \u001b[39m# \"shade\": [landmarks[71], (landmarks[301][0], landmarks[301][1] + (landmarks[119][1] - landmarks[301][1]))]\u001b[39;00m\n\u001b[0;32m      <a href='vscode-notebook-cell:/d%3A/facemesh_mediapipe/angle_test.ipynb#W2sZmlsZQ%3D%3D?line=5'>6</a>\u001b[0m         \u001b[39m\"\u001b[39m\u001b[39mshade\u001b[39m\u001b[39m\"\u001b[39m: [(landmarks[\u001b[39m140\u001b[39m][\u001b[39m0\u001b[39m], landmarks[\u001b[39m72\u001b[39m][\u001b[39m1\u001b[39m]), landmarks[\u001b[39m117\u001b[39m], landmarks[\u001b[39m346\u001b[39m], landmarks[\u001b[39m390\u001b[39m]]\n\u001b[0;32m      <a href='vscode-notebook-cell:/d%3A/facemesh_mediapipe/angle_test.ipynb#W2sZmlsZQ%3D%3D?line=6'>7</a>\u001b[0m     }\n\u001b[0;32m      <a href='vscode-notebook-cell:/d%3A/facemesh_mediapipe/angle_test.ipynb#W2sZmlsZQ%3D%3D?line=7'>8</a>\u001b[0m     \u001b[39mreturn\u001b[39;00m coordinates\n",
      "\u001b[1;31mKeyError\u001b[0m: 30"
     ]
    },
    {
     "ename": "",
     "evalue": "",
     "output_type": "error",
     "traceback": [
      "The Kernel crashed while executing code in the the current cell or a previous cell. Please review the code in the cell(s) to identify a possible cause of the failure. Click <a href='https://aka.ms/vscodeJupyterKernelCrash'>here</a> for more info. View Jupyter <a href='command:jupyter.viewOutput'>log</a> for further details."
     ]
    }
   ],
   "source": [
    "cam = cv2.VideoCapture(0)\n",
    "\n",
    "while True:\n",
    "    ret, frame = cam.read()\n",
    "    frame = frame[:,::-1]\n",
    "    \n",
    "    if ret:\n",
    "        landmarks = get_landmarks(frame)\n",
    "        coordinates = get_coordinates(landmarks)\n",
    "        image = draw_coordinates(frame, coordinates['shade'])\n",
    "        \n",
    "        cv2.imshow(\"im\", image)\n",
    "        if cv2.waitKey(5) & 0xFF == 27:\n",
    "            cv2.destroyAllWindows()\n",
    "            cam.release()\n",
    "            break"
   ]
  }
 ],
 "metadata": {
  "kernelspec": {
   "display_name": "Python 3.9.12 ('base')",
   "language": "python",
   "name": "python3"
  },
  "language_info": {
   "codemirror_mode": {
    "name": "ipython",
    "version": 3
   },
   "file_extension": ".py",
   "mimetype": "text/x-python",
   "name": "python",
   "nbconvert_exporter": "python",
   "pygments_lexer": "ipython3",
   "version": "3.9.12"
  },
  "orig_nbformat": 4,
  "vscode": {
   "interpreter": {
    "hash": "b4ff08fef9982690d6ee8a04378ac9cf6dd61a554303897a8b9d3dde3a4eb03b"
   }
  }
 },
 "nbformat": 4,
 "nbformat_minor": 2
}
