{
 "cells": [
  {
   "cell_type": "code",
   "execution_count": 3,
   "metadata": {},
   "outputs": [],
   "source": [
    "import cv2\n",
    "import numpy as np\n",
    "import mediapipe as mp"
   ]
  },
  {
   "cell_type": "code",
   "execution_count": 4,
   "metadata": {},
   "outputs": [],
   "source": [
    "mp_face_mesh = mp.solutions.face_mesh\n",
    "\n",
    "face_mesh = mp_face_mesh.FaceMesh(\n",
    "    max_num_faces=1,\n",
    "    static_image_mode=False,\n",
    "    min_detection_confidence=0.8,\n",
    "    min_tracking_confidence=0.8\n",
    ")"
   ]
  },
  {
   "cell_type": "code",
   "execution_count": 5,
   "metadata": {},
   "outputs": [],
   "source": [
    "def get_landmarks(image):\n",
    "    landmarks = {}\n",
    "    h,w = image.shape[:2]\n",
    "    image = cv2.cvtColor(image, cv2.COLOR_BGR2RGB)\n",
    "    face_mesh_result = face_mesh.process(image)\n",
    "    image = cv2.cvtColor(image, cv2.COLOR_RGB2BGR)\n",
    "    \n",
    "    if face_mesh_result.multi_face_landmarks:\n",
    "        for i, landmark in enumerate(face_mesh_result.multi_face_landmarks[0].landmark): \n",
    "            x = landmark.x\n",
    "            y = landmark.y\n",
    "            relative_x = int(x * w)\n",
    "            relative_y = int(y * h)\n",
    "            landmarks[i+1] = (relative_x, relative_y)\n",
    "    return landmarks\n"
   ]
  },
  {
   "cell_type": "code",
   "execution_count": 22,
   "metadata": {},
   "outputs": [],
   "source": [
    "def get_coordinates(landmarks):\n",
    "    coordinates = {\n",
    "        \"eye_left\": (landmarks[30], (landmarks[158][0], landmarks[145][1])),\n",
    "        \"eye_right\": (landmarks[287], (landmarks[260][0], landmarks[381][1])),\n",
    "        \"shade\": (landmarks[71], (landmarks[294][0], landmarks[119][1])),\n",
    "    }\n",
    "    return coordinates"
   ]
  },
  {
   "cell_type": "code",
   "execution_count": 7,
   "metadata": {},
   "outputs": [],
   "source": [
    "def add_effect(image, effect, icon_path, cordinates):\n",
    "    item = cv2.imread(icon_path)\n",
    "    pt1, pt2 = cordinates[effect]\n",
    "    x, y, x_w, y_h = pt1[0], pt1[1], pt2[0], pt2[1]\n",
    "    cropped = image[y:y_h, x:x_w, :]\n",
    "    h, w, _ = cropped.shape\n",
    "    item = cv2.resize(item, (w, h))\n",
    "    blend = cv2.addWeighted(cropped, 0, item, 1.0, 0)\n",
    "    \n",
    "    return blend, x, y, x_w, y_h"
   ]
  },
  {
   "cell_type": "code",
   "execution_count": 8,
   "metadata": {},
   "outputs": [],
   "source": [
    "def remove_whitespace(image, blend, x, y, threshold=225):\n",
    "    for i in range(blend.shape[0]):\n",
    "        for j in range(blend.shape[1]):\n",
    "            for k in range(3):\n",
    "                if blend[i][j][k] > threshold:\n",
    "                    blend[i][j][k] = image[i + y][j + x][k]"
   ]
  },
  {
   "cell_type": "code",
   "execution_count": 25,
   "metadata": {},
   "outputs": [],
   "source": [
    "def draw_iris_effects(image, coordinates):\n",
    "    icon_path = \"effects\\\\eye.png\"\n",
    "    for effect in ['eye_left', 'eye_right']:\n",
    "        blend, x, y, x_w, y_h = add_effect(image, effect, icon_path, coordinates)\n",
    "        remove_whitespace(\n",
    "            image=image,\n",
    "            blend=blend,\n",
    "            x=x,\n",
    "            y=y,\n",
    "            # threshold=200\n",
    "        )\n",
    "        image[y:y_h, x:x_w, :] = blend"
   ]
  },
  {
   "cell_type": "code",
   "execution_count": 26,
   "metadata": {},
   "outputs": [
    {
     "name": "stdout",
     "output_type": "stream",
     "text": [
      "(100, 106)\n",
      "(99, 106)\n",
      "(100, 106)\n",
      "(99, 105)\n",
      "(99, 105)\n",
      "(99, 105)\n",
      "(99, 104)\n",
      "(98, 104)\n",
      "(98, 104)\n",
      "(98, 105)\n",
      "(98, 105)\n",
      "(98, 105)\n",
      "(98, 105)\n",
      "(98, 105)\n",
      "(98, 105)\n",
      "(98, 105)\n",
      "(98, 105)\n",
      "(98, 105)\n",
      "(98, 105)\n",
      "(98, 106)\n",
      "(98, 106)\n",
      "(99, 107)\n",
      "(99, 107)\n",
      "(99, 107)\n",
      "(99, 107)\n",
      "(98, 108)\n",
      "(98, 108)\n",
      "(99, 108)\n",
      "(99, 108)\n",
      "(98, 107)\n",
      "(99, 107)\n",
      "(99, 108)\n",
      "(99, 108)\n",
      "(99, 107)\n",
      "(99, 107)\n",
      "(99, 108)\n",
      "(99, 108)\n",
      "(98, 108)\n",
      "(98, 108)\n",
      "(98, 108)\n",
      "(98, 108)\n",
      "(97, 109)\n",
      "(97, 109)\n",
      "(97, 109)\n",
      "(98, 109)\n",
      "(98, 109)\n",
      "(98, 109)\n",
      "(98, 109)\n",
      "(98, 109)\n",
      "(97, 110)\n",
      "(97, 110)\n",
      "(97, 110)\n"
     ]
    }
   ],
   "source": [
    "cam = cv2.VideoCapture(0)\n",
    "\n",
    "while True:\n",
    "    ret, frame = cam.read()\n",
    "    \n",
    "    if ret:\n",
    "        height, width, _ = frame.shape\n",
    "        image = cv2.resize(frame, (width//2, height//2))[:,::-1]\n",
    "        landmarks = get_landmarks(image=image)\n",
    "        print(landmarks[30])\n",
    "        try:\n",
    "            coordinates = get_coordinates(landmarks=landmarks)\n",
    "            draw_iris_effects(image, coordinates)\n",
    "        except KeyError as k:\n",
    "            print(k)\n",
    "\n",
    "        cv2.imshow(\"Live face effects\", image)\n",
    "        if cv2.waitKey(5) & 0xFF == 27:\n",
    "            cv2.destroyAllWindows() \n",
    "            cam.release()\n",
    "            break"
   ]
  },
  {
   "cell_type": "code",
   "execution_count": null,
   "metadata": {},
   "outputs": [],
   "source": []
  }
 ],
 "metadata": {
  "kernelspec": {
   "display_name": "Python 3.9.12 ('base')",
   "language": "python",
   "name": "python3"
  },
  "language_info": {
   "codemirror_mode": {
    "name": "ipython",
    "version": 3
   },
   "file_extension": ".py",
   "mimetype": "text/x-python",
   "name": "python",
   "nbconvert_exporter": "python",
   "pygments_lexer": "ipython3",
   "version": "3.9.12"
  },
  "orig_nbformat": 4,
  "vscode": {
   "interpreter": {
    "hash": "b4ff08fef9982690d6ee8a04378ac9cf6dd61a554303897a8b9d3dde3a4eb03b"
   }
  }
 },
 "nbformat": 4,
 "nbformat_minor": 2
}
