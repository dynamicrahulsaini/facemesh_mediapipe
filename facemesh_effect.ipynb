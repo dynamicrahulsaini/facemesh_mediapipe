{
 "cells": [
  {
   "cell_type": "code",
   "execution_count": 2,
   "metadata": {},
   "outputs": [],
   "source": [
    "# TODO: handle tilting of the effect with respect to head\n",
    "# TODO: finding the angle of head\n",
    "# TODO: y-coordinate from top-right corner, x-coordinate from top-left corner"
   ]
  },
  {
   "cell_type": "code",
   "execution_count": 3,
   "metadata": {},
   "outputs": [],
   "source": [
    "import cv2\n",
    "import numpy as np\n",
    "import mediapipe as mp"
   ]
  },
  {
   "cell_type": "code",
   "execution_count": 4,
   "metadata": {},
   "outputs": [],
   "source": [
    "mp_face_mesh = mp.solutions.face_mesh\n",
    "\n",
    "face_mesh = mp_face_mesh.FaceMesh(\n",
    "    max_num_faces=1,\n",
    "    static_image_mode=True,\n",
    "    refine_landmarks=True,\n",
    "    min_detection_confidence=0.8,\n",
    "    min_tracking_confidence=0.8\n",
    ")"
   ]
  },
  {
   "cell_type": "code",
   "execution_count": 5,
   "metadata": {},
   "outputs": [],
   "source": [
    "def get_landmarks(image):\n",
    "    landmarks = {}\n",
    "    h,w = image.shape[:2]\n",
    "    image = cv2.cvtColor(image, cv2.COLOR_BGR2RGB)\n",
    "    face_mesh_result = face_mesh.process(image)\n",
    "    image = cv2.cvtColor(image, cv2.COLOR_RGB2BGR)\n",
    "    \n",
    "    if face_mesh_result.multi_face_landmarks:\n",
    "        for i, landmark in enumerate(face_mesh_result.multi_face_landmarks[0].landmark): \n",
    "            x = landmark.x\n",
    "            y = landmark.y\n",
    "            relative_x = int(x * w)\n",
    "            relative_y = int(y * h)\n",
    "            landmarks[i+1] = (relative_x, relative_y)\n",
    "    return landmarks\n"
   ]
  },
  {
   "cell_type": "code",
   "execution_count": 6,
   "metadata": {},
   "outputs": [],
   "source": [
    "def get_coordinates(landmarks):\n",
    "    coordinates = {\n",
    "        \"eye_left\": [landmarks[30], [landmarks[158][0], landmarks[145][1]]],\n",
    "        \"eye_right\": [landmarks[287], [landmarks[260][0], landmarks[381][1]]],\n",
    "        # \"shade\": [landmarks[71], (landmarks[301][0], landmarks[301][1] + (landmarks[119][1] - landmarks[301][1]))]\n",
    "        \"shade\": [(landmarks[140][0], landmarks[72][1]), landmarks[117], landmarks[346], landmarks[390]]\n",
    "    }\n",
    "    return coordinates"
   ]
  },
  {
   "cell_type": "code",
   "execution_count": 7,
   "metadata": {},
   "outputs": [],
   "source": [
    "def add_effect(image, effect, icon_path, cordinates):\n",
    "    item = cv2.imread(icon_path)\n",
    "    pt1, pt2 = cordinates[effect]\n",
    "    x, y, x_w, y_h = pt1[0], pt1[1], pt2[0], pt2[1]\n",
    "    cropped = image[y:y_h, x:x_w, :]\n",
    "    h, w, _ = cropped.shape\n",
    "    item = cv2.resize(item, (w, h))\n",
    "    blend = cv2.addWeighted(cropped, 0, item, 1.0, 0)\n",
    "    \n",
    "    return blend, x, y, x_w, y_h"
   ]
  },
  {
   "cell_type": "code",
   "execution_count": 8,
   "metadata": {},
   "outputs": [],
   "source": [
    "def remove_whitespace(image, blend, x, y, threshold=225):\n",
    "    for i in range(blend.shape[0]):\n",
    "        for j in range(blend.shape[1]):\n",
    "            for k in range(3):\n",
    "                if blend[i][j][k] > threshold:\n",
    "                    blend[i][j][k] = image[i + y][j + x][k]"
   ]
  },
  {
   "cell_type": "code",
   "execution_count": 9,
   "metadata": {},
   "outputs": [],
   "source": [
    "def draw_iris_effects(image, coordinates):\n",
    "    icon_path = \"effects\\\\eye.png\"\n",
    "    for effect in ['eye_left', 'eye_right']:\n",
    "        blend, x, y, x_w, y_h = add_effect(image, effect, icon_path, coordinates)\n",
    "        remove_whitespace(\n",
    "            image=image,\n",
    "            blend=blend,\n",
    "            x=x,\n",
    "            y=y\n",
    "        )\n",
    "        image[y:y_h, x:x_w, :] = blend"
   ]
  },
  {
   "cell_type": "code",
   "execution_count": 10,
   "metadata": {},
   "outputs": [],
   "source": [
    "\n",
    "def draw_specs_effect(image, coordinates):\n",
    "    icon_path = \"effects\\\\spec2.png\"\n",
    "    blend, x, y, x_w, y_h = add_effect(image, \"shade\", icon_path, coordinates)\n",
    "    remove_whitespace(\n",
    "        image=image,\n",
    "        blend=blend,\n",
    "        x=x,\n",
    "        y=y\n",
    "    )\n",
    "    image[y:y_h, x:x_w, :] = blend\n",
    "    "
   ]
  },
  {
   "cell_type": "code",
   "execution_count": 11,
   "metadata": {},
   "outputs": [],
   "source": [
    "def draw_coordinates(image, points, color = [150, 0, 200]):\n",
    "    neighbor_vector = [(0,0), (1,0), (0,1), (-1,0), (0, -1), (-1, -1), (-1, 1), (1, -1), (1, 1)]\n",
    "    for pt in points:\n",
    "        image[pt[1]][pt[0]] = color\n",
    "    return image"
   ]
  },
  {
   "cell_type": "code",
   "execution_count": 24,
   "metadata": {},
   "outputs": [],
   "source": [
    "import math\n",
    "def get_angle(coordinates):\n",
    "    height = (coordinates[1][1] - coordinates[2][1])\n",
    "    base = (coordinates[1][0] - coordinates[2][0])\n",
    "    \n",
    "    angle = math.atan(height/base) * 180/math.pi\n",
    "    return angle\n",
    "    "
   ]
  },
  {
   "cell_type": "code",
   "execution_count": 25,
   "metadata": {},
   "outputs": [],
   "source": [
    "def get_rotated_image(im, angle):\n",
    "    imHeight, imWidth = im.shape[0], im.shape[1]\n",
    "    centreX, centreY = imWidth//2, imHeight//2\n",
    "        \n",
    "    rotationMat = cv2.getRotationMatrix2D(\n",
    "    center=(centreX, centreY),\n",
    "    angle=20,\n",
    "    scale=1\n",
    "    )\n",
    "    \n",
    "    cos = np.abs(rotationMat[0][0])\n",
    "    sin = np.abs(rotationMat[1][0])\n",
    "    \n",
    "    newWidth = int((imHeight * sin) + (imWidth * cos))\n",
    "    newHeight = int((imHeight * cos) + (imWidth * sin))\n",
    "    \n",
    "    rotationMat[0][2] = 0\n",
    "    rotationMat[1][2] += newHeight/2 - centreY\n",
    "    \n",
    "    dst_mat = np.zeros((newHeight, newWidth, 4), np.uint8)\n",
    "    rotatedMat = cv2.warpAffine(\n",
    "        im,\n",
    "        rotationMat,\n",
    "        (newWidth, newHeight),\n",
    "        dst_mat\n",
    "    )\n",
    "    \n",
    "    return dst_mat, (newHeight, newWidth)"
   ]
  },
  {
   "cell_type": "code",
   "execution_count": 12,
   "metadata": {},
   "outputs": [],
   "source": [
    "cam = cv2.VideoCapture(0)\n",
    "\n",
    "while True:\n",
    "    ret, frame = cam.read()\n",
    "    \n",
    "    if ret:\n",
    "        height, width, _ = frame.shape\n",
    "        image = cv2.resize(frame, (width//2, height//2))[:,::-1]\n",
    "        landmarks = get_landmarks(image=image)\n",
    "        coordinates = get_coordinates(landmarks=landmarks)\n",
    "        # draw_iris_effects(image, coordinates)\n",
    "        draw_specs_effect(image, coordinates)\n",
    "        image = draw_coordinates(image, coordinates['shade'], color=[255, 255, 255])\n",
    "        \n",
    "        cv2.imshow(\"Live face effects\", image)\n",
    "        if cv2.waitKey(5) & 0xFF == 27:\n",
    "            cv2.destroyAllWindows() \n",
    "            cam.release()\n",
    "            break"
   ]
  },
  {
   "cell_type": "code",
   "execution_count": 19,
   "metadata": {},
   "outputs": [],
   "source": [
    "frame = cv2.imread(\"img.jpg\")\n",
    "\n",
    "cam = cv2.VideoCapture(0)\n",
    "ret, frame = cam.read()\n",
    "\n",
    "\n",
    "height, width, _ = frame.shape\n",
    "# image = cv2.resize(frame, (width//2, height//2))[:,::-1]"
   ]
  },
  {
   "cell_type": "code",
   "execution_count": 20,
   "metadata": {},
   "outputs": [],
   "source": [
    "landmarks = get_landmarks(image=frame)\n",
    "coordinates = get_coordinates(landmarks=landmarks)"
   ]
  },
  {
   "cell_type": "code",
   "execution_count": 21,
   "metadata": {},
   "outputs": [],
   "source": [
    "# for i in range(1, 469):\n",
    "#     _img = draw_coordinates(image.copy(), list(landmarks.values()))\n",
    "#     _img = draw_coordinates(_img, [landmarks[i]], [255, 255, 255])\n",
    "\n",
    "#     cv2.imshow('Live face effects', image)\n",
    "#     if cv2.waitKey(0) == 27:\n",
    "#         cv2.destroyAllWindows()"
   ]
  },
  {
   "cell_type": "code",
   "execution_count": 22,
   "metadata": {},
   "outputs": [],
   "source": [
    "image = draw_coordinates(frame, list(landmarks.values()))\n",
    "image = draw_coordinates(\n",
    "    image=image,\n",
    "    points=[(landmarks[140][0], landmarks[72][1]), landmarks[117], landmarks[346], landmarks[390]],\n",
    "    color=[255, 255, 255]\n",
    ")\n",
    "\n",
    "cv2.imshow('Live face effects', image)\n",
    "if cv2.waitKey(0) == 27:\n",
    "    cv2.destroyAllWindows()"
   ]
  },
  {
   "cell_type": "code",
   "execution_count": 23,
   "metadata": {},
   "outputs": [],
   "source": [
    "cam.release()"
   ]
  }
 ],
 "metadata": {
  "kernelspec": {
   "display_name": "Python 3.9.12 ('base')",
   "language": "python",
   "name": "python3"
  },
  "language_info": {
   "codemirror_mode": {
    "name": "ipython",
    "version": 3
   },
   "file_extension": ".py",
   "mimetype": "text/x-python",
   "name": "python",
   "nbconvert_exporter": "python",
   "pygments_lexer": "ipython3",
   "version": "3.9.12"
  },
  "orig_nbformat": 4,
  "vscode": {
   "interpreter": {
    "hash": "b4ff08fef9982690d6ee8a04378ac9cf6dd61a554303897a8b9d3dde3a4eb03b"
   }
  }
 },
 "nbformat": 4,
 "nbformat_minor": 2
}
