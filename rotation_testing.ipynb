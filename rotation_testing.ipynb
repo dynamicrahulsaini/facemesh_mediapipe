{
 "cells": [
  {
   "cell_type": "code",
   "execution_count": 1,
   "metadata": {},
   "outputs": [],
   "source": [
    "import cv2\n",
    "import numpy as np"
   ]
  },
  {
   "cell_type": "code",
   "execution_count": 2,
   "metadata": {},
   "outputs": [],
   "source": [
    "im = cv2.imread(\"effects\\\\spec2.png\")\n",
    "\n",
    "imHeight, imWidth = im.shape[0], im.shape[1]\n",
    "centreX, centreY = imWidth//2, imHeight//2"
   ]
  },
  {
   "cell_type": "code",
   "execution_count": 3,
   "metadata": {},
   "outputs": [],
   "source": [
    "rotationMat = cv2.getRotationMatrix2D(\n",
    "    center=(centreX, centreY),\n",
    "    angle=10,\n",
    "    scale=1\n",
    ")"
   ]
  },
  {
   "cell_type": "code",
   "execution_count": 4,
   "metadata": {},
   "outputs": [
    {
     "data": {
      "text/plain": [
       "(0.984807753012208, 0.17364817766693033)"
      ]
     },
     "execution_count": 4,
     "metadata": {},
     "output_type": "execute_result"
    }
   ],
   "source": [
    "cos = np.abs(rotationMat[0][0])\n",
    "sin = np.abs(rotationMat[1][0])\n",
    "cos, sin"
   ]
  },
  {
   "cell_type": "code",
   "execution_count": 5,
   "metadata": {},
   "outputs": [
    {
     "data": {
      "text/plain": [
       "(431, 872, (291, 835, 3))"
      ]
     },
     "execution_count": 5,
     "metadata": {},
     "output_type": "execute_result"
    }
   ],
   "source": [
    "newWidth = int((imHeight * sin) + (imWidth * cos))\n",
    "newHeight = int((imHeight * cos) + (imWidth * sin))\n",
    "newHeight, newWidth, im.shape"
   ]
  },
  {
   "cell_type": "code",
   "execution_count": 14,
   "metadata": {},
   "outputs": [],
   "source": [
    "rotatedMat = cv2.warpAffine(\n",
    "    src=im,\n",
    "    M=rotationMat,\n",
    "    dsize=(newWidth, newHeight)\n",
    ")"
   ]
  },
  {
   "cell_type": "code",
   "execution_count": 10,
   "metadata": {},
   "outputs": [],
   "source": [
    "cv2.imshow(\"rotatedMat\", rotatedMat)\n",
    "if cv2.waitKey(0) == 27:\n",
    "    cv2.destroyAllWindows()"
   ]
  }
 ],
 "metadata": {
  "kernelspec": {
   "display_name": "Python 3.9.12 ('base')",
   "language": "python",
   "name": "python3"
  },
  "language_info": {
   "codemirror_mode": {
    "name": "ipython",
    "version": 3
   },
   "file_extension": ".py",
   "mimetype": "text/x-python",
   "name": "python",
   "nbconvert_exporter": "python",
   "pygments_lexer": "ipython3",
   "version": "3.9.12"
  },
  "orig_nbformat": 4,
  "vscode": {
   "interpreter": {
    "hash": "b4ff08fef9982690d6ee8a04378ac9cf6dd61a554303897a8b9d3dde3a4eb03b"
   }
  }
 },
 "nbformat": 4,
 "nbformat_minor": 2
}
